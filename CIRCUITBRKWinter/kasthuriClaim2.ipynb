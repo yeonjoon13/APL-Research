{
 "cells": [
  {
   "cell_type": "markdown",
   "metadata": {},
   "source": [
    "### Notebook for checking Kasthuri 2015 - Claims 2 Neurons\n",
    "GitRepo reference: https://github.com/neurodata/kasthuri2015. Claims list can be found in the \"Issues Tab\" \n",
    "Useful link for figuring out the channels available to you https://api.bossdb.io/v1/mgmt/resources/Kasthuri2015/em "
   ]
  },
  {
   "cell_type": "code",
   "execution_count": 1,
   "metadata": {},
   "outputs": [],
   "source": [
    "# Import Kasthuri2015/em data using Intern. Import the relevant annotated data (neuron, mitochondria, synapses)\n",
    "from intern import array\n",
    "import numpy as np\n",
    "import backoff\n",
    "import requests \n",
    "from tqdm import tqdm\n",
    "from datetime import datetime\n",
    "from joblib import Parallel, delayed\n",
    "\n",
    "import matplotlib.pyplot as plt\n",
    "\n",
    "%matplotlib widget"
   ]
  },
  {
   "cell_type": "code",
   "execution_count": 7,
   "metadata": {},
   "outputs": [
    {
     "name": "stderr",
     "output_type": "stream",
     "text": [
      "/Users/riverjl1/opt/anaconda3/envs/intern/lib/python3.10/site-packages/intern/convenience/array.py:449: ImportWarning: CloudVolume is not installed. Accessing channel using CVDB.\n",
      "  warnings.warn(\"CloudVolume is not installed. Accessing channel using CVDB.\", ImportWarning)\n"
     ]
    },
    {
     "name": "stdout",
     "output_type": "stream",
     "text": [
      "The EM data is of shape (1849, 13312, 10752)\n",
      "The Neuron data is of shape ( 1849 13312 10752 )\n"
     ]
    }
   ],
   "source": [
    "# Print the shape of the data and plot a slice with the annotation data superimposed to check that things are aligned. \n",
    "k_em = array(\"bossdb://kasthuri2015/em/cc\")\n",
    "k_neuron = array(\"bossdb://kasthuri2015/em/3cylneuron_v1\")\n",
    "\n",
    "emS = k_em.shape\n",
    "neZ, neY, neX = k_neuron.shape\n",
    "\n",
    "print(\"The EM data is of shape\", emS)\n",
    "print(\"The Neuron data is of shape (\", neZ, neY, neX, \")\")"
   ]
  },
  {
   "cell_type": "code",
   "execution_count": 3,
   "metadata": {},
   "outputs": [],
   "source": [
    "# neuron counter function that uses parallel to run multiple batches of counting at once. \n",
    "\n",
    "@backoff.on_exception(backoff.expo, \n",
    "                      requests.exceptions.RequestException, \n",
    "                      max_tries=3)\n",
    "def neuron_count(neuronData:array, zBound:int, yBound:int, xBound:int, zBase=0, yBase=0, xBase=0) -> int:\n",
    "    uni_val = np.ndarray([])\n",
    "    # tqdm used for timing on smaller segments to test timing. \n",
    "    def neuron_count(i):\n",
    "        np.append(uni_val, np.unique(neuronData[i, yBase:yBound, xBase:xBound]))\n",
    "        return np.unique(uni_val)\n",
    "    all_values = Parallel(n_jobs=20)(delayed(neuron_count)(i) for i in range(zBase,zBound))\n",
    "    \n",
    "    return np.unique(np.concatenate(all_values))\n",
    "\n",
    "#claim_labels = neuron_count(k_neuron, neZ//2, neY//10, neX//10)"
   ]
  },
  {
   "cell_type": "code",
   "execution_count": 5,
   "metadata": {},
   "outputs": [],
   "source": [
    "# Bin maker for cycling through stacks of slices \n",
    "def split(upper_lim, n_bins):\n",
    "    k, m = divmod(upper_lim, n_bins)\n",
    "    return [(i*k+min(i, m),(i+1)*k+min(i+1, m)) for i in range(n_bins)]\n"
   ]
  },
  {
   "cell_type": "code",
   "execution_count": 9,
   "metadata": {},
   "outputs": [
    {
     "name": "stderr",
     "output_type": "stream",
     "text": [
      " 20%|██        | 2/10 [1:47:34<7:10:18, 3227.31s/it]\n"
     ]
    },
    {
     "ename": "HTTPError",
     "evalue": "Get cutout failed on 3cylneuron_v1, got HTTP response: (504) - <html>\r\n<head><title>504 Gateway Time-out</title></head>\r\n<body>\r\n<center><h1>504 Gateway Time-out</h1></center>\r\n</body>\r\n</html>\r\n",
     "output_type": "error",
     "traceback": [
      "\u001b[0;31m---------------------------------------------------------------------------\u001b[0m",
      "\u001b[0;31m_RemoteTraceback\u001b[0m                          Traceback (most recent call last)",
      "\u001b[0;31m_RemoteTraceback\u001b[0m: \n\"\"\"\nTraceback (most recent call last):\n  File \"/Users/riverjl1/opt/anaconda3/envs/intern/lib/python3.10/site-packages/joblib/externals/loky/process_executor.py\", line 428, in _process_worker\n    r = call_item()\n  File \"/Users/riverjl1/opt/anaconda3/envs/intern/lib/python3.10/site-packages/joblib/externals/loky/process_executor.py\", line 275, in __call__\n    return self.fn(*self.args, **self.kwargs)\n  File \"/Users/riverjl1/opt/anaconda3/envs/intern/lib/python3.10/site-packages/joblib/_parallel_backends.py\", line 620, in __call__\n    return self.func(*args, **kwargs)\n  File \"/Users/riverjl1/opt/anaconda3/envs/intern/lib/python3.10/site-packages/joblib/parallel.py\", line 288, in __call__\n    return [func(*args, **kwargs)\n  File \"/Users/riverjl1/opt/anaconda3/envs/intern/lib/python3.10/site-packages/joblib/parallel.py\", line 288, in <listcomp>\n    return [func(*args, **kwargs)\n  File \"/var/folders/_q/gb1jmrtj6rld9mwb71_7nnfh0000gp/T/ipykernel_19698/3817459831.py\", line 10, in neuron_count\n  File \"/Users/riverjl1/opt/anaconda3/envs/intern/lib/python3.10/site-packages/intern/convenience/array.py\", line 889, in __getitem__\n    cutout = self.volume_provider.get_cutout(\n  File \"/Users/riverjl1/opt/anaconda3/envs/intern/lib/python3.10/site-packages/intern/convenience/array.py\", line 183, in get_cutout\n    return self.boss.get_cutout(channel, resolution, xs, ys, zs)\n  File \"/Users/riverjl1/opt/anaconda3/envs/intern/lib/python3.10/site-packages/intern/remote/boss/remote.py\", line 924, in get_cutout\n    return self._volume.get_cutout(\n  File \"/Users/riverjl1/opt/anaconda3/envs/intern/lib/python3.10/site-packages/intern/service/boss/volume.py\", line 38, in wrapper\n    return fcn(*args, **kwargs)\n  File \"/Users/riverjl1/opt/anaconda3/envs/intern/lib/python3.10/site-packages/intern/service/boss/volume.py\", line 130, in get_cutout\n    return self.service.get_cutout(\n  File \"/Users/riverjl1/opt/anaconda3/envs/intern/lib/python3.10/site-packages/intern/service/boss/v1/volume.py\", line 336, in get_cutout\n    raise HTTPError(msg, request=req, response=resp)\nrequests.exceptions.HTTPError: Get cutout failed on 3cylneuron_v1, got HTTP response: (504) - <html>\r\n<head><title>504 Gateway Time-out</title></head>\r\n<body>\r\n<center><h1>504 Gateway Time-out</h1></center>\r\n</body>\r\n</html>\r\n\n\"\"\"",
      "\nThe above exception was the direct cause of the following exception:\n",
      "\u001b[0;31mHTTPError\u001b[0m                                 Traceback (most recent call last)",
      "\u001b[1;32m/Users/riverjl1/Documents/R1R/BENCHMARK/benchmark-cookbook/kasthuriClaim2.ipynb Cell 7\u001b[0m in \u001b[0;36m<cell line: 4>\u001b[0;34m()\u001b[0m\n\u001b[1;32m      <a href='vscode-notebook-cell:/Users/riverjl1/Documents/R1R/BENCHMARK/benchmark-cookbook/kasthuriClaim2.ipynb#W6sZmlsZQ%3D%3D?line=4'>5</a>\u001b[0m \u001b[39mfor\u001b[39;00m y_bound_lower, y_bound_upper \u001b[39min\u001b[39;00m split(neY,\u001b[39m10\u001b[39m):\n\u001b[1;32m      <a href='vscode-notebook-cell:/Users/riverjl1/Documents/R1R/BENCHMARK/benchmark-cookbook/kasthuriClaim2.ipynb#W6sZmlsZQ%3D%3D?line=5'>6</a>\u001b[0m     \u001b[39mfor\u001b[39;00m z_bound_lower, z_bound_upper \u001b[39min\u001b[39;00m split(neZ,\u001b[39m2\u001b[39m):\n\u001b[0;32m----> <a href='vscode-notebook-cell:/Users/riverjl1/Documents/R1R/BENCHMARK/benchmark-cookbook/kasthuriClaim2.ipynb#W6sZmlsZQ%3D%3D?line=6'>7</a>\u001b[0m         all_values\u001b[39m.\u001b[39mappend(neuron_count(k_neuron, z_bound_upper, y_bound_upper, x_bound_upper, z_bound_lower, y_bound_lower, x_bound_lower))\n",
      "File \u001b[0;32m~/opt/anaconda3/envs/intern/lib/python3.10/site-packages/backoff/_sync.py:105\u001b[0m, in \u001b[0;36mretry_exception.<locals>.retry\u001b[0;34m(*args, **kwargs)\u001b[0m\n\u001b[1;32m     96\u001b[0m details \u001b[39m=\u001b[39m {\n\u001b[1;32m     97\u001b[0m     \u001b[39m\"\u001b[39m\u001b[39mtarget\u001b[39m\u001b[39m\"\u001b[39m: target,\n\u001b[1;32m     98\u001b[0m     \u001b[39m\"\u001b[39m\u001b[39margs\u001b[39m\u001b[39m\"\u001b[39m: args,\n\u001b[0;32m   (...)\u001b[0m\n\u001b[1;32m    101\u001b[0m     \u001b[39m\"\u001b[39m\u001b[39melapsed\u001b[39m\u001b[39m\"\u001b[39m: elapsed,\n\u001b[1;32m    102\u001b[0m }\n\u001b[1;32m    104\u001b[0m \u001b[39mtry\u001b[39;00m:\n\u001b[0;32m--> 105\u001b[0m     ret \u001b[39m=\u001b[39m target(\u001b[39m*\u001b[39;49margs, \u001b[39m*\u001b[39;49m\u001b[39m*\u001b[39;49mkwargs)\n\u001b[1;32m    106\u001b[0m \u001b[39mexcept\u001b[39;00m exception \u001b[39mas\u001b[39;00m e:\n\u001b[1;32m    107\u001b[0m     max_tries_exceeded \u001b[39m=\u001b[39m (tries \u001b[39m==\u001b[39m max_tries_value)\n",
      "\u001b[1;32m/Users/riverjl1/Documents/R1R/BENCHMARK/benchmark-cookbook/kasthuriClaim2.ipynb Cell 7\u001b[0m in \u001b[0;36mneuron_count\u001b[0;34m(neuronData, zBound, yBound, xBound, zBase, yBase, xBase)\u001b[0m\n\u001b[1;32m     <a href='vscode-notebook-cell:/Users/riverjl1/Documents/R1R/BENCHMARK/benchmark-cookbook/kasthuriClaim2.ipynb#W6sZmlsZQ%3D%3D?line=9'>10</a>\u001b[0m     np\u001b[39m.\u001b[39mappend(uni_val, np\u001b[39m.\u001b[39munique(neuronData[i, yBase:yBound, xBase:xBound]))\n\u001b[1;32m     <a href='vscode-notebook-cell:/Users/riverjl1/Documents/R1R/BENCHMARK/benchmark-cookbook/kasthuriClaim2.ipynb#W6sZmlsZQ%3D%3D?line=10'>11</a>\u001b[0m     \u001b[39mreturn\u001b[39;00m np\u001b[39m.\u001b[39munique(uni_val)\n\u001b[0;32m---> <a href='vscode-notebook-cell:/Users/riverjl1/Documents/R1R/BENCHMARK/benchmark-cookbook/kasthuriClaim2.ipynb#W6sZmlsZQ%3D%3D?line=11'>12</a>\u001b[0m all_values \u001b[39m=\u001b[39m Parallel(n_jobs\u001b[39m=\u001b[39;49m\u001b[39m20\u001b[39;49m)(delayed(neuron_count)(i) \u001b[39mfor\u001b[39;49;00m i \u001b[39min\u001b[39;49;00m \u001b[39mrange\u001b[39;49m(zBase,zBound))\n\u001b[1;32m     <a href='vscode-notebook-cell:/Users/riverjl1/Documents/R1R/BENCHMARK/benchmark-cookbook/kasthuriClaim2.ipynb#W6sZmlsZQ%3D%3D?line=13'>14</a>\u001b[0m \u001b[39mreturn\u001b[39;00m np\u001b[39m.\u001b[39munique(np\u001b[39m.\u001b[39mconcatenate(all_values))\n",
      "File \u001b[0;32m~/opt/anaconda3/envs/intern/lib/python3.10/site-packages/joblib/parallel.py:1098\u001b[0m, in \u001b[0;36mParallel.__call__\u001b[0;34m(self, iterable)\u001b[0m\n\u001b[1;32m   1095\u001b[0m     \u001b[39mself\u001b[39m\u001b[39m.\u001b[39m_iterating \u001b[39m=\u001b[39m \u001b[39mFalse\u001b[39;00m\n\u001b[1;32m   1097\u001b[0m \u001b[39mwith\u001b[39;00m \u001b[39mself\u001b[39m\u001b[39m.\u001b[39m_backend\u001b[39m.\u001b[39mretrieval_context():\n\u001b[0;32m-> 1098\u001b[0m     \u001b[39mself\u001b[39;49m\u001b[39m.\u001b[39;49mretrieve()\n\u001b[1;32m   1099\u001b[0m \u001b[39m# Make sure that we get a last message telling us we are done\u001b[39;00m\n\u001b[1;32m   1100\u001b[0m elapsed_time \u001b[39m=\u001b[39m time\u001b[39m.\u001b[39mtime() \u001b[39m-\u001b[39m \u001b[39mself\u001b[39m\u001b[39m.\u001b[39m_start_time\n",
      "File \u001b[0;32m~/opt/anaconda3/envs/intern/lib/python3.10/site-packages/joblib/parallel.py:975\u001b[0m, in \u001b[0;36mParallel.retrieve\u001b[0;34m(self)\u001b[0m\n\u001b[1;32m    973\u001b[0m \u001b[39mtry\u001b[39;00m:\n\u001b[1;32m    974\u001b[0m     \u001b[39mif\u001b[39;00m \u001b[39mgetattr\u001b[39m(\u001b[39mself\u001b[39m\u001b[39m.\u001b[39m_backend, \u001b[39m'\u001b[39m\u001b[39msupports_timeout\u001b[39m\u001b[39m'\u001b[39m, \u001b[39mFalse\u001b[39;00m):\n\u001b[0;32m--> 975\u001b[0m         \u001b[39mself\u001b[39m\u001b[39m.\u001b[39m_output\u001b[39m.\u001b[39mextend(job\u001b[39m.\u001b[39;49mget(timeout\u001b[39m=\u001b[39;49m\u001b[39mself\u001b[39;49m\u001b[39m.\u001b[39;49mtimeout))\n\u001b[1;32m    976\u001b[0m     \u001b[39melse\u001b[39;00m:\n\u001b[1;32m    977\u001b[0m         \u001b[39mself\u001b[39m\u001b[39m.\u001b[39m_output\u001b[39m.\u001b[39mextend(job\u001b[39m.\u001b[39mget())\n",
      "File \u001b[0;32m~/opt/anaconda3/envs/intern/lib/python3.10/site-packages/joblib/_parallel_backends.py:567\u001b[0m, in \u001b[0;36mLokyBackend.wrap_future_result\u001b[0;34m(future, timeout)\u001b[0m\n\u001b[1;32m    564\u001b[0m \u001b[39m\"\"\"Wrapper for Future.result to implement the same behaviour as\u001b[39;00m\n\u001b[1;32m    565\u001b[0m \u001b[39mAsyncResults.get from multiprocessing.\"\"\"\u001b[39;00m\n\u001b[1;32m    566\u001b[0m \u001b[39mtry\u001b[39;00m:\n\u001b[0;32m--> 567\u001b[0m     \u001b[39mreturn\u001b[39;00m future\u001b[39m.\u001b[39;49mresult(timeout\u001b[39m=\u001b[39;49mtimeout)\n\u001b[1;32m    568\u001b[0m \u001b[39mexcept\u001b[39;00m CfTimeoutError \u001b[39mas\u001b[39;00m e:\n\u001b[1;32m    569\u001b[0m     \u001b[39mraise\u001b[39;00m \u001b[39mTimeoutError\u001b[39;00m \u001b[39mfrom\u001b[39;00m \u001b[39me\u001b[39;00m\n",
      "File \u001b[0;32m~/opt/anaconda3/envs/intern/lib/python3.10/concurrent/futures/_base.py:458\u001b[0m, in \u001b[0;36mFuture.result\u001b[0;34m(self, timeout)\u001b[0m\n\u001b[1;32m    456\u001b[0m     \u001b[39mraise\u001b[39;00m CancelledError()\n\u001b[1;32m    457\u001b[0m \u001b[39melif\u001b[39;00m \u001b[39mself\u001b[39m\u001b[39m.\u001b[39m_state \u001b[39m==\u001b[39m FINISHED:\n\u001b[0;32m--> 458\u001b[0m     \u001b[39mreturn\u001b[39;00m \u001b[39mself\u001b[39;49m\u001b[39m.\u001b[39;49m__get_result()\n\u001b[1;32m    459\u001b[0m \u001b[39melse\u001b[39;00m:\n\u001b[1;32m    460\u001b[0m     \u001b[39mraise\u001b[39;00m \u001b[39mTimeoutError\u001b[39;00m()\n",
      "File \u001b[0;32m~/opt/anaconda3/envs/intern/lib/python3.10/concurrent/futures/_base.py:403\u001b[0m, in \u001b[0;36mFuture.__get_result\u001b[0;34m(self)\u001b[0m\n\u001b[1;32m    401\u001b[0m \u001b[39mif\u001b[39;00m \u001b[39mself\u001b[39m\u001b[39m.\u001b[39m_exception:\n\u001b[1;32m    402\u001b[0m     \u001b[39mtry\u001b[39;00m:\n\u001b[0;32m--> 403\u001b[0m         \u001b[39mraise\u001b[39;00m \u001b[39mself\u001b[39m\u001b[39m.\u001b[39m_exception\n\u001b[1;32m    404\u001b[0m     \u001b[39mfinally\u001b[39;00m:\n\u001b[1;32m    405\u001b[0m         \u001b[39m# Break a reference cycle with the exception in self._exception\u001b[39;00m\n\u001b[1;32m    406\u001b[0m         \u001b[39mself\u001b[39m \u001b[39m=\u001b[39m \u001b[39mNone\u001b[39;00m\n",
      "\u001b[0;31mHTTPError\u001b[0m: Get cutout failed on 3cylneuron_v1, got HTTP response: (504) - <html>\r\n<head><title>504 Gateway Time-out</title></head>\r\n<body>\r\n<center><h1>504 Gateway Time-out</h1></center>\r\n</body>\r\n</html>\r\n"
     ]
    }
   ],
   "source": [
    "# Cell that executes counting in a for loop.  \n",
    "all_values = []\n",
    "\n",
    "for x_bound_lower, x_bound_upper in tqdm(split(neX,10)):\n",
    "    for y_bound_lower, y_bound_upper in split(neY,10):\n",
    "        for z_bound_lower, z_bound_upper in split(neZ,2):\n",
    "            all_values.append(neuron_count(k_neuron, z_bound_upper, y_bound_upper, x_bound_upper, z_bound_lower, y_bound_lower, x_bound_lower))\n"
   ]
  },
  {
   "cell_type": "code",
   "execution_count": null,
   "metadata": {},
   "outputs": [],
   "source": [
    "# Plotting Cell\n",
    "em_slice = k_em[1500, 9500:10000, 9500:10000]\n",
    "neuron_slice = k_neuron[1500, 9500:10000, 9500:10000]\n",
    "\n",
    "fig, ax = plt.subplots(figsize=(5,5))\n",
    "plt.imshow(em_slice, cmap=\"Greys_r\")\n",
    "plt.imshow(neuron_slice, alpha=0.5, cmap=\"tab20\")\n"
   ]
  },
  {
   "cell_type": "code",
   "execution_count": null,
   "metadata": {},
   "outputs": [],
   "source": []
  }
 ],
 "metadata": {
  "kernelspec": {
   "display_name": "Python 3.10.6 ('intern')",
   "language": "python",
   "name": "python3"
  },
  "language_info": {
   "codemirror_mode": {
    "name": "ipython",
    "version": 3
   },
   "file_extension": ".py",
   "mimetype": "text/x-python",
   "name": "python",
   "nbconvert_exporter": "python",
   "pygments_lexer": "ipython3",
   "version": "3.10.6"
  },
  "orig_nbformat": 4,
  "vscode": {
   "interpreter": {
    "hash": "9b2d64be5044dbc64ee03a4f2054cd8784a3afb5442a303d743ec19dd74abb82"
   }
  }
 },
 "nbformat": 4,
 "nbformat_minor": 2
}

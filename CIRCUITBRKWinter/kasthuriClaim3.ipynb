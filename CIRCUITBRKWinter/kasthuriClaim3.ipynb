{
 "cells": [
  {
   "cell_type": "markdown",
   "metadata": {},
   "source": [
    "### Notebook for checking Kasthuri 2015 - Claims 3 Synapses\n",
    "GitRepo reference: https://github.com/neurodata/kasthuri2015. Claims list can be found in the \"Issues Tab\" \n",
    "Useful link for figuring out the channels available to you https://api.bossdb.io/v1/mgmt/resources/Kasthuri2015/em "
   ]
  },
  {
   "cell_type": "markdown",
   "metadata": {},
   "source": [
    "Data Import"
   ]
  },
  {
   "cell_type": "code",
   "execution_count": null,
   "metadata": {},
   "outputs": [],
   "source": [
    "# Import Kasthuri2015/em data using Intern. Import the relevant annotated data (synapses). Packages below should be helpful for completing the notebook. \n",
    "from intern import array\n",
    "import numpy as np\n",
    "import matplotlib.pyplot as plt\n",
    "\n",
    "%matplotlib widget"
   ]
  },
  {
   "cell_type": "code",
   "execution_count": null,
   "metadata": {},
   "outputs": [],
   "source": [
    "# Print the shape of the data and plot a slice with the annotation data superimposed to check that things are aligned/the data sets are correct. "
   ]
  },
  {
   "cell_type": "markdown",
   "metadata": {},
   "source": [
    "Count objects within a section of data"
   ]
  },
  {
   "cell_type": "code",
   "execution_count": null,
   "metadata": {},
   "outputs": [],
   "source": [
    "### Start by accessing the values in a subregion. You can force your computer to freeze/restart if you try to go through the entire data, so the name of the game is working in chunks of data! \n",
    "### '0' value is background of the image. The below is sample code of how to manage the data locally, in case you need to work offline. \n",
    "### It is not necessary, but could be helpful to you! \n",
    "\n",
    "## Example of locally storing numpy array\n",
    "# with open('backup.npy', 'wb') as f:\n",
    "#     np.save(f, subregion)\n",
    "\n",
    "## Example of accessing locally saved numpy array\n",
    "# with open('backup.npy', 'rb') as f:\n",
    "#     subregion = np.load(f)"
   ]
  }
 ],
 "metadata": {
  "kernelspec": {
   "display_name": "Python 3.9.6 64-bit",
   "language": "python",
   "name": "python3"
  },
  "language_info": {
   "name": "python",
   "version": "3.9.6"
  },
  "orig_nbformat": 4,
  "vscode": {
   "interpreter": {
    "hash": "31f2aee4e71d21fbe5cf8b01ff0e069b9275f58929596ceb00d14d90e3e16cd6"
   }
  }
 },
 "nbformat": 4,
 "nbformat_minor": 2
}

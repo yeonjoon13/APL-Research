{
 "cells": [
  {
   "cell_type": "markdown",
   "metadata": {},
   "source": [
    "### Notebook for checking Kasthuri 2015 - Claims 4 Mitochondria\n",
    "GitRepo reference: https://github.com/neurodata/kasthuri2015. Claims list can be found in the \"Issues Tab\". Useful link for figuring out the channels available to you https://api.bossdb.io/v1/mgmt/resources/Kasthuri2015/em "
   ]
  },
  {
   "cell_type": "markdown",
   "metadata": {},
   "source": [
    "Data Import"
   ]
  },
  {
   "cell_type": "code",
   "execution_count": null,
   "metadata": {},
   "outputs": [],
   "source": [
    "# Import Kasthuri2015/em data using Intern. Next, import the relevant annotated data (mitochondria). Packages below should be helpful for completing the notebook. \n",
    "from intern import array\n",
    "import numpy as np\n",
    "import matplotlib.pyplot as plt\n",
    "\n",
    "%matplotlib widget"
   ]
  },
  {
   "cell_type": "code",
   "execution_count": null,
   "metadata": {},
   "outputs": [],
   "source": [
    "# Print the shape of the data and plot a slice with the annotation data superimposed to check that things are aligned/the data sets are correct. "
   ]
  },
  {
   "cell_type": "markdown",
   "metadata": {},
   "source": [
    "Count objects within a section of data"
   ]
  },
  {
   "cell_type": "code",
   "execution_count": null,
   "metadata": {},
   "outputs": [],
   "source": [
    "### Start by accessing the values in a subregion. You can force your computer to freeze/restart if you try to go through the entire data, so the name of the game is working in chunks of data! \n",
    "### '0' value is background of the image. The below is sample code of how to manage the data locally, in case you need to work offline. \n",
    "### It is not necessary, but could be helpful to you! \n",
    "\n",
    "## Example of locally storing numpy array\n",
    "# with open('backup.npy', 'wb') as f:\n",
    "#     np.save(f, subregion)\n",
    "\n",
    "## Example of accessing locally saved numpy array\n",
    "# with open('backup.npy', 'rb') as f:\n",
    "#     subregion = np.load(f)"
   ]
  }
 ],
 "metadata": {
  "kernelspec": {
   "display_name": "Python 3.10.6 ('intern')",
   "language": "python",
   "name": "python3"
  },
  "language_info": {
   "codemirror_mode": {
    "name": "ipython",
    "version": 3
   },
   "file_extension": ".py",
   "mimetype": "text/x-python",
   "name": "python",
   "nbconvert_exporter": "python",
   "pygments_lexer": "ipython3",
   "version": "3.10.6"
  },
  "orig_nbformat": 4,
  "vscode": {
   "interpreter": {
    "hash": "9b2d64be5044dbc64ee03a4f2054cd8784a3afb5442a303d743ec19dd74abb82"
   }
  }
 },
 "nbformat": 4,
 "nbformat_minor": 2
}

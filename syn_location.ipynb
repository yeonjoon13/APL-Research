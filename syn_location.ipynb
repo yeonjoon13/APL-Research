{
 "cells": [
  {
   "cell_type": "markdown",
   "metadata": {},
   "source": [
    "### Synapse Locator \n",
    "The following code will help find the location of a specific synapse within an EM image stack"
   ]
  },
  {
   "cell_type": "code",
   "execution_count": null,
   "metadata": {},
   "outputs": [],
   "source": [
    "def syn_loc(RAMON_synapse_ID,center==False):\n",
    "    \"\"\"\n",
    "    This function takes in the Ramonized Synapse ID of a synapse and returns the location of the entire synapse in a range [z range], [y range], [x range]. \n",
    "    If center = True, the Z slice in the Y x X plane with the greatest area is provided and it's centroid position in the Y x X plane.\n",
    "    \"\"\"\n",
    "    ## Default center = False. \n",
    "    ## RAMON_[object]_ID.LOCATION.[Z,Y,X].RANGE should return the range that the object (synapse) spans in the [Z,Y,X] direction. To be used to find and encompasing volume that a synapse lives in\n",
    "    ## RAMON_[object]_ID.LOCATION.[Z,Y,X].CENTROID should return the [Z,Y,X] location of the synapse. To be used to find an image slice of a specific synapse. \n",
    "    id = RAMON_synapse_ID\n",
    "    if center == False:\n",
    "        z_loc_RANGE = RAMON_synapse_ID.LOCATION.Z.RANGE\n",
    "        y_loc_RANGE = RAMON_synapse_ID.LOCATION.Y.RANGE\n",
    "        x_loc_RANGE = RAMON_synapse_ID.LOCATION.X.RANGE\n",
    "        return [z_loc_RANGE, \n",
    "                y_loc_RANGE, \n",
    "                x_loc_RANGE]\n",
    "    elif center == True:\n",
    "        z_loc = RAMON_synapse_ID.LOCATION.Z.CENTROID\n",
    "        y_loc = RAMON_synapse_ID.LOCATION.Y.CENTROID\n",
    "        x_loc = RAMON_synapse_ID.LOCATION.X.CENTROID\n",
    "        return [z_loc,\n",
    "                y_loc,\n",
    "                x_loc]\n",
    "\n",
    "        \n",
    "    "
   ]
  }
 ],
 "metadata": {
  "kernelspec": {
   "display_name": "Python 3.9.6 64-bit",
   "language": "python",
   "name": "python3"
  },
  "language_info": {
   "name": "python",
   "version": "3.9.6"
  },
  "orig_nbformat": 4,
  "vscode": {
   "interpreter": {
    "hash": "31f2aee4e71d21fbe5cf8b01ff0e069b9275f58929596ceb00d14d90e3e16cd6"
   }
  }
 },
 "nbformat": 4,
 "nbformat_minor": 2
}
